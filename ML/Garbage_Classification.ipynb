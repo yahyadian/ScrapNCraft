{
  "nbformat": 4,
  "nbformat_minor": 0,
  "metadata": {
    "colab": {
      "provenance": [],
      "gpuType": "T4"
    },
    "kernelspec": {
      "name": "python3",
      "display_name": "Python 3"
    },
    "language_info": {
      "name": "python"
    },
    "accelerator": "GPU"
  },
  "cells": [
    {
      "cell_type": "code",
      "execution_count": null,
      "metadata": {
        "id": "d3SsJGXYehBW"
      },
      "outputs": [],
      "source": [
        "import tensorflow as tf\n",
        "from tensorflow.keras.preprocessing.image import ImageDataGenerator\n",
        "import numpy as np\n",
        "\n",
        "import pathlib\n",
        "import random\n",
        "import matplotlib as plt\n",
        "import matplotlib.pyplot\n",
        "import matplotlib.image\n",
        "\n",
        "import os"
      ]
    },
    {
      "cell_type": "code",
      "source": [
        "!pip install gdown\n",
        "\n",
        "file_id = \"1qIhtWhc5-vPYpVSOicU2LlPvRxXeckFq\"\n",
        "output_file = \"garbageClassification.zip\"\n",
        "\n",
        "!gdown --id $file_id -O $output_file"
      ],
      "metadata": {
        "colab": {
          "base_uri": "https://localhost:8080/"
        },
        "id": "T-Ic9VwRepym",
        "outputId": "315282ed-e86d-44bd-df6e-b9a07a8b2a0b"
      },
      "execution_count": null,
      "outputs": [
        {
          "output_type": "stream",
          "name": "stdout",
          "text": [
            "Requirement already satisfied: gdown in /usr/local/lib/python3.10/dist-packages (4.6.6)\n",
            "Requirement already satisfied: filelock in /usr/local/lib/python3.10/dist-packages (from gdown) (3.13.1)\n",
            "Requirement already satisfied: requests[socks] in /usr/local/lib/python3.10/dist-packages (from gdown) (2.31.0)\n",
            "Requirement already satisfied: six in /usr/local/lib/python3.10/dist-packages (from gdown) (1.16.0)\n",
            "Requirement already satisfied: tqdm in /usr/local/lib/python3.10/dist-packages (from gdown) (4.66.1)\n",
            "Requirement already satisfied: beautifulsoup4 in /usr/local/lib/python3.10/dist-packages (from gdown) (4.11.2)\n",
            "Requirement already satisfied: soupsieve>1.2 in /usr/local/lib/python3.10/dist-packages (from beautifulsoup4->gdown) (2.5)\n",
            "Requirement already satisfied: charset-normalizer<4,>=2 in /usr/local/lib/python3.10/dist-packages (from requests[socks]->gdown) (3.3.2)\n",
            "Requirement already satisfied: idna<4,>=2.5 in /usr/local/lib/python3.10/dist-packages (from requests[socks]->gdown) (3.6)\n",
            "Requirement already satisfied: urllib3<3,>=1.21.1 in /usr/local/lib/python3.10/dist-packages (from requests[socks]->gdown) (2.0.7)\n",
            "Requirement already satisfied: certifi>=2017.4.17 in /usr/local/lib/python3.10/dist-packages (from requests[socks]->gdown) (2023.11.17)\n",
            "Requirement already satisfied: PySocks!=1.5.7,>=1.5.6 in /usr/local/lib/python3.10/dist-packages (from requests[socks]->gdown) (1.7.1)\n",
            "/usr/local/lib/python3.10/dist-packages/gdown/cli.py:121: FutureWarning: Option `--id` was deprecated in version 4.3.1 and will be removed in 5.0. You don't need to pass it anymore to use a file ID.\n",
            "  warnings.warn(\n",
            "Downloading...\n",
            "From: https://drive.google.com/uc?id=1qIhtWhc5-vPYpVSOicU2LlPvRxXeckFq\n",
            "To: /content/garbageClassification.zip\n",
            "100% 386M/386M [00:10<00:00, 36.4MB/s]\n"
          ]
        }
      ]
    },
    {
      "cell_type": "code",
      "source": [
        "import zipfile\n",
        "\n",
        "# Extract the archive\n",
        "local_zip = './garbageClassification.zip'\n",
        "zip_ref = zipfile.ZipFile(local_zip, 'r')\n",
        "zip_ref.extractall('tmp/garbageClassification')\n",
        "zip_ref.close()"
      ],
      "metadata": {
        "id": "XSIclBTEescM"
      },
      "execution_count": null,
      "outputs": []
    },
    {
      "cell_type": "code",
      "source": [
        "import os\n",
        "\n",
        "base_dir = 'tmp/garbageClassification'\n",
        "\n",
        "# kaleng, kertas, kardus, botol_plastik\n",
        "kaleng_dir = os.path.join(base_dir, 'kaleng')\n",
        "kertas_dir = os.path.join(base_dir, 'kertas')\n",
        "kardus_dir = os.path.join(base_dir, 'kardus')\n",
        "botol_plastik_dir = os.path.join(base_dir, 'botol_plastik')\n",
        "\n",
        "print('total training cans images:', len(os.listdir(kaleng_dir)))\n",
        "print('total training cardboard images:', len(os.listdir(kardus_dir)))\n",
        "print('total training paper images:', len(os.listdir(kertas_dir)))\n",
        "print('total training plastic_bottles images:', len(os.listdir(botol_plastik_dir)))\n",
        "\n",
        "cans_files = os.listdir(kaleng_dir)\n",
        "print(cans_files[:10])\n",
        "\n",
        "paper_files = os.listdir(kertas_dir)\n",
        "print(paper_files[:10])\n",
        "\n",
        "cardboard_files = os.listdir(kardus_dir)\n",
        "print(cardboard_files[:10])\n",
        "\n",
        "plastic_bottles_files = os.listdir(botol_plastik_dir)\n",
        "print(plastic_bottles_files[:10])"
      ],
      "metadata": {
        "colab": {
          "base_uri": "https://localhost:8080/"
        },
        "id": "Z_hsrC_zesMH",
        "outputId": "81afa3a3-ee8a-42e1-d5b3-b59368c74cc2"
      },
      "execution_count": null,
      "outputs": [
        {
          "output_type": "stream",
          "name": "stdout",
          "text": [
            "total training cans images: 1000\n",
            "total training cardboard images: 1000\n",
            "total training paper images: 1000\n",
            "total training plastic_bottles images: 1000\n",
            "['AluCan410.jpg', 'AluCan656.jpg', 'AluCan160.jpg', 'AluCan698.jpg', 'AluCan135.jpg', 'AluCan993.jpg', 'AluCan1,029.jpg', 'AluCan60.jpg', 'AluCan274.jpg', 'AluCan481.jpg']\n",
            "['paper225.jpg', 'paper500.jpg', 'paper198.jpg', 'paper627.jpg', 'paper779.jpg', 'paper686.jpg', 'paper274.jpg', 'paper702.jpg', 'paper147.jpg', 'paper110.jpg']\n",
            "['X5DUSCEFQV0X.jpg', '6JJYOCLHIE1F.jpg', 'cardboard90.jpg', 'cardboard103.jpg', 'cardboard387.jpg', 'cardboard617.jpg', 'cardboard612.jpg', 'cardboard154.jpg', 'DQTAEHT7IYTE.jpg', 'cardboard32.jpg']\n",
            "['PET713.jpg', 'PET1,023.jpg', 'PET502.jpg', 'PET1,780.jpg', 'PET538.jpg', 'PET1,251.jpg', 'PET861.jpg', 'PET749.jpg', 'PET567.jpg', 'PET834.jpg']\n"
          ]
        }
      ]
    },
    {
      "cell_type": "code",
      "source": [
        "import shutil\n",
        "\n",
        "# Define root directory\n",
        "root_dir = 'data/'\n",
        "\n",
        "# Empty directory to prevent FileExistsError is the function is run several times\n",
        "if os.path.exists(root_dir):\n",
        "  shutil.rmtree(root_dir)\n",
        "\n",
        "# create_train_val_dirs\n",
        "def create_train_val_dirs(root_path):\n",
        "\n",
        "  os.makedirs(os.path.join(root_path, 'training'))\n",
        "  os.makedirs(os.path.join(f'{root_path}/training', 'kaleng'))\n",
        "  os.makedirs(os.path.join(f'{root_path}/training', 'kertas'))\n",
        "  os.makedirs(os.path.join(f'{root_path}/training', 'kardus'))\n",
        "  os.makedirs(os.path.join(f'{root_path}/training', 'botol_plastik'))\n",
        "  os.makedirs(os.path.join(root_path, 'validation'))\n",
        "  os.makedirs(os.path.join(f'{root_path}/validation', 'kaleng'))\n",
        "  os.makedirs(os.path.join(f'{root_path}/validation', 'kertas'))\n",
        "  os.makedirs(os.path.join(f'{root_path}/validation', 'kardus'))\n",
        "  os.makedirs(os.path.join(f'{root_path}/validation', 'botol_plastik'))\n",
        "\n",
        "try:\n",
        "  create_train_val_dirs(root_path=root_dir)\n",
        "except FileExistsError:\n",
        "  print(\"You should not be seeing this since the upper directory is removed beforehand\")"
      ],
      "metadata": {
        "id": "J5Jj6v7Seryg"
      },
      "execution_count": null,
      "outputs": []
    },
    {
      "cell_type": "code",
      "source": [
        "# Test create_train_val_dirs function\n",
        "for rootdir, dirs, files in os.walk(root_dir):\n",
        "    for subdir in dirs:\n",
        "        print(os.path.join(rootdir, subdir))"
      ],
      "metadata": {
        "colab": {
          "base_uri": "https://localhost:8080/"
        },
        "id": "NOo46pdHiZ-H",
        "outputId": "49910125-767e-4e5c-93fb-27c2c10dfe9c"
      },
      "execution_count": null,
      "outputs": [
        {
          "output_type": "stream",
          "name": "stdout",
          "text": [
            "data/validation\n",
            "data/training\n",
            "data/validation/botol_plastik\n",
            "data/validation/kaleng\n",
            "data/validation/kardus\n",
            "data/validation/kertas\n",
            "data/training/botol_plastik\n",
            "data/training/kaleng\n",
            "data/training/kardus\n",
            "data/training/kertas\n"
          ]
        }
      ]
    },
    {
      "cell_type": "code",
      "source": [
        "from shutil import copyfile\n",
        "\n",
        "# split_data\n",
        "def split_data(source_dir, training_dir, validation_dir, split_size):\n",
        "\n",
        "    # Shuffle list\n",
        "  shuffled_source = random.sample(os.listdir(source_dir), len(os.listdir(source_dir)))\n",
        "\n",
        "  # Find total number of files in training dir\n",
        "  training_number = int(len(shuffled_source) * split_size)\n",
        "\n",
        "  i = 0\n",
        "  target = training_dir\n",
        "\n",
        "  for item in shuffled_source:\n",
        "    item_source = os.path.join(source_dir, item)\n",
        "    if os.path.getsize(item_source) == 0:\n",
        "      print(f'{item} is zero length, so ignoring.')\n",
        "    else:\n",
        "      copyfile(item_source, os.path.join(target, item))\n",
        "    i += 1\n",
        "\n",
        "    # Switch copy target to VALIDATION_DIR\n",
        "    if i == training_number:\n",
        "      target = validation_dir"
      ],
      "metadata": {
        "id": "KiAAYBMUib46"
      },
      "execution_count": null,
      "outputs": []
    },
    {
      "cell_type": "code",
      "source": [
        "# Test your split_data function\n",
        "\n",
        "# Define paths\n",
        "kardus_source_dir = \"tmp/garbageClassification/kardus\"\n",
        "botol_plastik_source_dir = \"tmp/garbageClassification/botol_plastik\"\n",
        "kaleng_source_dir = \"tmp/garbageClassification/kaleng\"\n",
        "kertas_source_dir = \"tmp/garbageClassification/kertas\"\n",
        "\n",
        "training_dir = \"data/training\"\n",
        "validation_dir = \"data/validation\"\n",
        "\n",
        "training_kardus_dir = os.path.join(training_dir, \"kardus/\")\n",
        "validation_kardus_dir = os.path.join(validation_dir, \"kardus/\")\n",
        "\n",
        "training_botol_plastik_dir = os.path.join(training_dir, \"botol_plastik/\")\n",
        "validation_botol_plastik_dir = os.path.join(validation_dir, \"botol_plastik/\")\n",
        "\n",
        "training_kaleng_dir = os.path.join(training_dir, \"kaleng/\")\n",
        "validation_kaleng_dir = os.path.join(validation_dir, \"kaleng/\")\n",
        "\n",
        "training_kertas_dir = os.path.join(training_dir, \"kertas/\")\n",
        "validation_kertas_dir = os.path.join(validation_dir, \"kertas/\")"
      ],
      "metadata": {
        "id": "UaPXQV_WieC0"
      },
      "execution_count": null,
      "outputs": []
    },
    {
      "cell_type": "code",
      "source": [
        "# Empty directories in case you run this cell multiple times\n",
        "if len(os.listdir(training_kardus_dir)) > 0:\n",
        "  for file in os.scandir(training_kardus_dir):\n",
        "    os.remove(file.path)\n",
        "if len(os.listdir(training_botol_plastik_dir)) > 0:\n",
        "  for file in os.scandir(training_botol_plastik_dir):\n",
        "    os.remove(file.path)\n",
        "if len(os.listdir(training_kaleng_dir)) > 0:\n",
        "  for file in os.scandir(training_kaleng_dir):\n",
        "    os.remove(file.path)\n",
        "if len(os.listdir(training_kertas_dir)) > 0:\n",
        "  for file in os.scandir(training_kertas_dir):\n",
        "    os.remove(file.path)\n",
        "\n",
        "\n",
        "if len(os.listdir(validation_kardus_dir)) > 0:\n",
        "  for file in os.scandir(validation_kardus_dir):\n",
        "    os.remove(file.path)\n",
        "if len(os.listdir(validation_botol_plastik_dir)) > 0:\n",
        "  for file in os.scandir(validation_botol_plastik_dir):\n",
        "    os.remove(file.path)\n",
        "if len(os.listdir(validation_kaleng_dir)) > 0:\n",
        "  for file in os.scandir(validation_kaleng_dir):\n",
        "    os.remove(file.path)\n",
        "if len(os.listdir(validation_kertas_dir)) > 0:\n",
        "  for file in os.scandir(validation_kertas_dir):\n",
        "    os.remove(file.path)"
      ],
      "metadata": {
        "id": "N_uKdgnSif5D"
      },
      "execution_count": null,
      "outputs": []
    },
    {
      "cell_type": "code",
      "source": [
        "split_size = .8"
      ],
      "metadata": {
        "id": "kO3FfsImiiAU"
      },
      "execution_count": null,
      "outputs": []
    },
    {
      "cell_type": "code",
      "source": [
        "# Run the function\n",
        "# NOTE: Messages about zero length images should be printed out\n",
        "split_data(kardus_source_dir, training_kardus_dir, validation_kardus_dir, split_size)\n",
        "split_data(botol_plastik_source_dir, training_botol_plastik_dir, validation_botol_plastik_dir, split_size)\n",
        "split_data(kaleng_source_dir, training_kaleng_dir, validation_kaleng_dir, split_size)\n",
        "split_data(kertas_source_dir, training_kertas_dir, validation_kertas_dir, split_size)\n",
        "\n",
        "# Your function should perform copies rather than moving images so original directories should contain unchanged images\n",
        "print(f\"Original kardus directory has {len(os.listdir(kardus_source_dir))} images\")\n",
        "print(f\"Original botol plastik directory has {len(os.listdir(botol_plastik_source_dir))} images\")\n",
        "print(f\"Original kaleng directory has {len(os.listdir(kaleng_source_dir))} images\")\n",
        "print(f\"Original kertas directory has {len(os.listdir(kertas_source_dir))} images\")\n",
        "\n",
        "# Training and validation splits. Check that the number of images matches the expected output.\n",
        "print(f\"There are {len(os.listdir(training_kardus_dir))} images of kardus for training\")\n",
        "print(f\"There are {len(os.listdir(training_botol_plastik_dir))} images of botol plastik for training\")\n",
        "print(f\"There are {len(os.listdir(training_kaleng_dir))} images of kaleng for training\")\n",
        "print(f\"There are {len(os.listdir(training_kertas_dir))} images of kertas for training\")\n",
        "\n",
        "print(f\"There are {len(os.listdir(validation_kardus_dir))} images of kardus for validation\")\n",
        "print(f\"There are {len(os.listdir(validation_botol_plastik_dir))} images of botol plastik for validation\")\n",
        "print(f\"There are {len(os.listdir(validation_kaleng_dir))} images of kaleng for validation\")\n",
        "print(f\"There are {len(os.listdir(validation_kertas_dir))} images of kertas for validation\")"
      ],
      "metadata": {
        "colab": {
          "base_uri": "https://localhost:8080/"
        },
        "id": "bQNbUzgxijmn",
        "outputId": "f6f868dd-6f58-4dec-e774-0a2299b31f5f"
      },
      "execution_count": null,
      "outputs": [
        {
          "output_type": "stream",
          "name": "stdout",
          "text": [
            "Original kardus directory has 1000 images\n",
            "Original botol plastik directory has 1000 images\n",
            "Original kaleng directory has 1000 images\n",
            "Original kertas directory has 1000 images\n",
            "There are 800 images of kardus for training\n",
            "There are 800 images of botol plastik for training\n",
            "There are 800 images of kaleng for training\n",
            "There are 800 images of kertas for training\n",
            "There are 200 images of kardus for validation\n",
            "There are 200 images of botol plastik for validation\n",
            "There are 200 images of kaleng for validation\n",
            "There are 200 images of kertas for validation\n"
          ]
        }
      ]
    },
    {
      "cell_type": "code",
      "source": [
        "training_dir = \"data/training\"\n",
        "training_datagen = ImageDataGenerator(\n",
        "      rescale = 1./255.,\n",
        "\t    rotation_range=40,\n",
        "      width_shift_range=0.2,\n",
        "      height_shift_range=0.2,\n",
        "      shear_range=0.2,\n",
        "      zoom_range=0.2,\n",
        "      horizontal_flip=True,\n",
        "      fill_mode='nearest')\n",
        "\n",
        "validation_dir = \"data/validation\"\n",
        "validation_datagen = ImageDataGenerator(rescale = 1./255.)\n",
        "\n",
        "train_generator = training_datagen.flow_from_directory(\n",
        "\ttraining_dir,\n",
        "\ttarget_size=(280,280),\n",
        "\tclass_mode='categorical',\n",
        "  batch_size=128\n",
        ")\n",
        "\n",
        "validation_generator = validation_datagen.flow_from_directory(\n",
        "\tvalidation_dir,\n",
        "\ttarget_size=(280,280),\n",
        "\tclass_mode='categorical',\n",
        "  batch_size=128\n",
        ")"
      ],
      "metadata": {
        "colab": {
          "base_uri": "https://localhost:8080/"
        },
        "id": "Es6nXNIQilid",
        "outputId": "3b03e38b-2c84-4b9b-fc08-cac5625c0f57"
      },
      "execution_count": null,
      "outputs": [
        {
          "output_type": "stream",
          "name": "stdout",
          "text": [
            "Found 3200 images belonging to 4 classes.\n",
            "Found 800 images belonging to 4 classes.\n"
          ]
        }
      ]
    },
    {
      "cell_type": "code",
      "source": [
        "model = tf.keras.models.Sequential([\n",
        "    tf.keras.layers.Conv2D(16, (3, 3), activation='relu', input_shape=(280, 280, 3)),\n",
        "    tf.keras.layers.MaxPooling2D(2, 2),\n",
        "    tf.keras.layers.Conv2D(32, (3, 3), activation='relu'),\n",
        "    tf.keras.layers.MaxPooling2D(2, 2),\n",
        "    tf.keras.layers.Conv2D(64, (3, 3), activation='relu'),\n",
        "    tf.keras.layers.MaxPooling2D(2, 2),\n",
        "    tf.keras.layers.Flatten(),\n",
        "    tf.keras.layers.Dense(128, activation='relu'),\n",
        "    tf.keras.layers.Dense(4, activation='softmax')\n",
        "])"
      ],
      "metadata": {
        "id": "Oitp7J7ninn0"
      },
      "execution_count": null,
      "outputs": []
    },
    {
      "cell_type": "code",
      "source": [
        "model.compile(optimizer='adam',\n",
        "              loss='categorical_crossentropy',\n",
        "              metrics=['accuracy'])"
      ],
      "metadata": {
        "id": "tPABh6wCiqFB"
      },
      "execution_count": null,
      "outputs": []
    },
    {
      "cell_type": "code",
      "source": [
        "checkpoint_filepath = '/tmp/checkpoint'\n",
        "model_checkpoint_callback = tf.keras.callbacks.ModelCheckpoint(\n",
        "    filepath=checkpoint_filepath,\n",
        "    save_weights_only=True,\n",
        "    monitor='val_accuracy',\n",
        "    mode='max',\n",
        "    save_best_only=True)"
      ],
      "metadata": {
        "id": "VgNyQ_DOi9dV"
      },
      "execution_count": null,
      "outputs": []
    },
    {
      "cell_type": "code",
      "source": [
        "model.summary()"
      ],
      "metadata": {
        "colab": {
          "base_uri": "https://localhost:8080/"
        },
        "id": "PEGq6W8sfZLd",
        "outputId": "ab2cfb42-2002-4362-a0d7-c60b38a13150"
      },
      "execution_count": null,
      "outputs": [
        {
          "output_type": "stream",
          "name": "stdout",
          "text": [
            "Model: \"sequential\"\n",
            "_________________________________________________________________\n",
            " Layer (type)                Output Shape              Param #   \n",
            "=================================================================\n",
            " conv2d (Conv2D)             (None, 278, 278, 16)      448       \n",
            "                                                                 \n",
            " max_pooling2d (MaxPooling2  (None, 139, 139, 16)      0         \n",
            " D)                                                              \n",
            "                                                                 \n",
            " conv2d_1 (Conv2D)           (None, 137, 137, 32)      4640      \n",
            "                                                                 \n",
            " max_pooling2d_1 (MaxPoolin  (None, 68, 68, 32)        0         \n",
            " g2D)                                                            \n",
            "                                                                 \n",
            " conv2d_2 (Conv2D)           (None, 66, 66, 64)        18496     \n",
            "                                                                 \n",
            " max_pooling2d_2 (MaxPoolin  (None, 33, 33, 64)        0         \n",
            " g2D)                                                            \n",
            "                                                                 \n",
            " flatten (Flatten)           (None, 69696)             0         \n",
            "                                                                 \n",
            " dense (Dense)               (None, 128)               8921216   \n",
            "                                                                 \n",
            " dense_1 (Dense)             (None, 4)                 516       \n",
            "                                                                 \n",
            "=================================================================\n",
            "Total params: 8945316 (34.12 MB)\n",
            "Trainable params: 8945316 (34.12 MB)\n",
            "Non-trainable params: 0 (0.00 Byte)\n",
            "_________________________________________________________________\n"
          ]
        }
      ]
    },
    {
      "cell_type": "code",
      "source": [
        "history = model.fit(\n",
        "    train_generator,\n",
        "    steps_per_epoch=train_generator.samples // train_generator.batch_size,\n",
        "    epochs=20,\n",
        "    validation_data=validation_generator,\n",
        "    validation_steps=validation_generator.samples // validation_generator.batch_size,\n",
        "    callbacks=[model_checkpoint_callback]\n",
        ")"
      ],
      "metadata": {
        "colab": {
          "base_uri": "https://localhost:8080/"
        },
        "id": "3db5hOZPi-6o",
        "outputId": "1bcb23d4-9417-4323-f4d3-ec016fcb6d02"
      },
      "execution_count": null,
      "outputs": [
        {
          "output_type": "stream",
          "name": "stdout",
          "text": [
            "Epoch 1/20\n",
            "25/25 [==============================] - 82s 3s/step - loss: 1.4415 - accuracy: 0.4431 - val_loss: 0.9827 - val_accuracy: 0.6445\n",
            "Epoch 2/20\n",
            "25/25 [==============================] - 75s 3s/step - loss: 0.7749 - accuracy: 0.6988 - val_loss: 0.7559 - val_accuracy: 0.6719\n",
            "Epoch 3/20\n",
            "25/25 [==============================] - 73s 3s/step - loss: 0.6537 - accuracy: 0.7425 - val_loss: 0.6969 - val_accuracy: 0.7487\n",
            "Epoch 4/20\n",
            "25/25 [==============================] - 73s 3s/step - loss: 0.5363 - accuracy: 0.7931 - val_loss: 0.6062 - val_accuracy: 0.7695\n",
            "Epoch 5/20\n",
            "25/25 [==============================] - 77s 3s/step - loss: 0.5042 - accuracy: 0.8037 - val_loss: 0.6203 - val_accuracy: 0.7852\n",
            "Epoch 6/20\n",
            "25/25 [==============================] - 73s 3s/step - loss: 0.5623 - accuracy: 0.7844 - val_loss: 0.4896 - val_accuracy: 0.8177\n",
            "Epoch 7/20\n",
            "25/25 [==============================] - 74s 3s/step - loss: 0.4335 - accuracy: 0.8391 - val_loss: 0.3810 - val_accuracy: 0.8451\n",
            "Epoch 8/20\n",
            "25/25 [==============================] - 71s 3s/step - loss: 0.4275 - accuracy: 0.8428 - val_loss: 0.4126 - val_accuracy: 0.8477\n",
            "Epoch 9/20\n",
            "25/25 [==============================] - 73s 3s/step - loss: 0.4045 - accuracy: 0.8425 - val_loss: 0.6778 - val_accuracy: 0.7930\n",
            "Epoch 10/20\n",
            "25/25 [==============================] - 72s 3s/step - loss: 0.4100 - accuracy: 0.8478 - val_loss: 0.4083 - val_accuracy: 0.8372\n",
            "Epoch 11/20\n",
            "25/25 [==============================] - 74s 3s/step - loss: 0.3598 - accuracy: 0.8694 - val_loss: 0.3434 - val_accuracy: 0.8737\n",
            "Epoch 12/20\n",
            "25/25 [==============================] - 74s 3s/step - loss: 0.3654 - accuracy: 0.8591 - val_loss: 0.3219 - val_accuracy: 0.8724\n",
            "Epoch 13/20\n",
            "25/25 [==============================] - 74s 3s/step - loss: 0.3454 - accuracy: 0.8719 - val_loss: 0.3560 - val_accuracy: 0.8698\n",
            "Epoch 14/20\n",
            "25/25 [==============================] - 72s 3s/step - loss: 0.3266 - accuracy: 0.8756 - val_loss: 0.4013 - val_accuracy: 0.8633\n",
            "Epoch 15/20\n",
            "25/25 [==============================] - 74s 3s/step - loss: 0.2963 - accuracy: 0.8888 - val_loss: 0.2894 - val_accuracy: 0.8932\n",
            "Epoch 16/20\n",
            "25/25 [==============================] - 93s 4s/step - loss: 0.3054 - accuracy: 0.8884 - val_loss: 0.3424 - val_accuracy: 0.8724\n",
            "Epoch 17/20\n",
            "25/25 [==============================] - 86s 3s/step - loss: 0.3759 - accuracy: 0.8575 - val_loss: 0.3518 - val_accuracy: 0.8815\n",
            "Epoch 18/20\n",
            "25/25 [==============================] - 98s 4s/step - loss: 0.3236 - accuracy: 0.8788 - val_loss: 0.3471 - val_accuracy: 0.8750\n",
            "Epoch 19/20\n",
            "25/25 [==============================] - 81s 3s/step - loss: 0.2737 - accuracy: 0.8981 - val_loss: 0.2509 - val_accuracy: 0.9154\n",
            "Epoch 20/20\n",
            "25/25 [==============================] - 74s 3s/step - loss: 0.2754 - accuracy: 0.8966 - val_loss: 0.3075 - val_accuracy: 0.8984\n"
          ]
        }
      ]
    },
    {
      "cell_type": "code",
      "source": [
        "import matplotlib.pyplot as plt\n",
        "\n",
        "plt.plot(history.history['accuracy'], label='Training Accuracy')\n",
        "plt.plot(history.history['val_accuracy'], label='Validation Accuracy')\n",
        "plt.xlabel('Epoch')\n",
        "plt.ylabel('Accuracy')\n",
        "plt.legend()\n",
        "plt.title('Training and Validation Accuracy')\n",
        "plt.show()\n",
        "\n",
        "plt.plot(history.history['loss'], label='Training Loss')\n",
        "plt.plot(history.history['val_loss'], label='Validation Loss')\n",
        "plt.xlabel('Epoch')\n",
        "plt.ylabel('Loss')\n",
        "plt.legend()\n",
        "plt.title('Training and Validation Loss')\n",
        "plt.show()"
      ],
      "metadata": {
        "colab": {
          "base_uri": "https://localhost:8080/",
          "height": 927
        },
        "id": "TaPHbfold_EA",
        "outputId": "6f2334be-4cb6-44d2-9d1a-41c9a9c6baf7"
      },
      "execution_count": null,
      "outputs": [
        {
          "output_type": "display_data",
          "data": {
            "text/plain": [
              "<Figure size 640x480 with 1 Axes>"
            ],
            "image/png": "[encoded data removed]"
          },
          "metadata": {}
        },
        {
          "output_type": "display_data",
          "data": {
            "text/plain": [
              "<Figure size 640x480 with 1 Axes>"
            ],
            "image/png": "[encoded data removed]"
          },
          "metadata": {}
        }
      ]
    },
    {
      "cell_type": "code",
      "source": [
        "model.load_weights(checkpoint_filepath)"
      ],
      "metadata": {
        "colab": {
          "base_uri": "https://localhost:8080/"
        },
        "id": "Ns06UNv1npKv",
        "outputId": "5cf6de7a-8705-447c-897c-ac042be76b77"
      },
      "execution_count": null,
      "outputs": [
        {
          "output_type": "execute_result",
          "data": {
            "text/plain": [
              "<tensorflow.python.checkpoint.checkpoint.CheckpointLoadStatus at 0x7cd182ee33d0>"
            ]
          },
          "metadata": {},
          "execution_count": 19
        }
      ]
    },
    {
      "cell_type": "code",
      "source": [
        "test_loss, test_acc = model.evaluate(validation_generator)\n",
        "print(f'\\nTest accuracy: {test_acc}')\n",
        "print(f'\\nTest loss: {test_loss}')"
      ],
      "metadata": {
        "colab": {
          "base_uri": "https://localhost:8080/"
        },
        "id": "v5wk-ArBjDEQ",
        "outputId": "fd9ef385-a509-476e-bb0a-219ae902f7da"
      },
      "execution_count": null,
      "outputs": [
        {
          "output_type": "stream",
          "name": "stdout",
          "text": [
            "7/7 [==============================] - 4s 518ms/step - loss: 0.2485 - accuracy: 0.9175\n",
            "\n",
            "Test accuracy: 0.9175000190734863\n",
            "\n",
            "Test loss: 0.2485032081604004\n"
          ]
        }
      ]
    },
    {
      "cell_type": "code",
      "source": [
        "export_dir = 'saved_model/1'\n",
        "tf.saved_model.save(model, export_dir)"
      ],
      "metadata": {
        "id": "pDEzIQBUjG0K"
      },
      "execution_count": null,
      "outputs": []
    },
    {
      "cell_type": "code",
      "source": [
        "# Convert the model.\n",
        "converter = tf.lite.TFLiteConverter.from_saved_model(export_dir)\n",
        "converter.optimizations = [tf.lite.Optimize.DEFAULT]\n",
        "tflite_model = converter.convert()"
      ],
      "metadata": {
        "id": "mHiohNkcjIzG"
      },
      "execution_count": null,
      "outputs": []
    },
    {
      "cell_type": "code",
      "source": [
        "tflite_model_file = pathlib.Path('model.tflite')\n",
        "tflite_model_file.write_bytes(tflite_model)"
      ],
      "metadata": {
        "colab": {
          "base_uri": "https://localhost:8080/"
        },
        "id": "VFFNkNDqjLEl",
        "outputId": "1cd76d40-e523-41cf-c6a8-aaf2eac0cacb"
      },
      "execution_count": null,
      "outputs": [
        {
          "output_type": "execute_result",
          "data": {
            "text/plain": [
              "8954232"
            ]
          },
          "metadata": {},
          "execution_count": 24
        }
      ]
    },
    {
      "cell_type": "code",
      "source": [
        "try:\n",
        "    from google.colab import files\n",
        "    files.download(tflite_model_file)\n",
        "except:\n",
        "    pass"
      ],
      "metadata": {
        "colab": {
          "base_uri": "https://localhost:8080/",
          "height": 34
        },
        "id": "6eapc-DWjUQI",
        "outputId": "8b17380a-7f03-49d7-f9d6-15ea8a0dbb18"
      },
      "execution_count": null,
      "outputs": [
        {
          "output_type": "display_data",
          "data": {
            "text/plain": [
              "<IPython.core.display.Javascript object>"
            ],
            "application/javascript": [
              "\n",
              "    async function download(id, filename, size) {\n",
              "      if (!google.colab.kernel.accessAllowed) {\n",
              "        return;\n",
              "      }\n",
              "      const div = document.createElement('div');\n",
              "      const label = document.createElement('label');\n",
              "      label.textContent = `Downloading \"${filename}\": `;\n",
              "      div.appendChild(label);\n",
              "      const progress = document.createElement('progress');\n",
              "      progress.max = size;\n",
              "      div.appendChild(progress);\n",
              "      document.body.appendChild(div);\n",
              "\n",
              "      const buffers = [];\n",
              "      let downloaded = 0;\n",
              "\n",
              "      const channel = await google.colab.kernel.comms.open(id);\n",
              "      // Send a message to notify the kernel that we're ready.\n",
              "      channel.send({})\n",
              "\n",
              "      for await (const message of channel.messages) {\n",
              "        // Send a message to notify the kernel that we're ready.\n",
              "        channel.send({})\n",
              "        if (message.buffers) {\n",
              "          for (const buffer of message.buffers) {\n",
              "            buffers.push(buffer);\n",
              "            downloaded += buffer.byteLength;\n",
              "            progress.value = downloaded;\n",
              "          }\n",
              "        }\n",
              "      }\n",
              "      const blob = new Blob(buffers, {type: 'application/binary'});\n",
              "      const a = document.createElement('a');\n",
              "      a.href = window.URL.createObjectURL(blob);\n",
              "      a.download = filename;\n",
              "      div.appendChild(a);\n",
              "      a.click();\n",
              "      div.remove();\n",
              "    }\n",
              "  "
            ]
          },
          "metadata": {}
        },
        {
          "output_type": "display_data",
          "data": {
            "text/plain": [
              "<IPython.core.display.Javascript object>"
            ],
            "application/javascript": [
              "download(\"download_12b5269d-604a-4cfe-aee2-a7f7028e84f6\", \"model.tflite\", 71472252)"
            ]
          },
          "metadata": {}
        }
      ]
    }
  ]
}